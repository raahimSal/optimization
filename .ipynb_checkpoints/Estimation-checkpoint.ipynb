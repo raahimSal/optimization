{
 "cells": [
  {
   "cell_type": "code",
   "execution_count": 22,
   "metadata": {
    "autoscroll": false,
    "collapsed": false,
    "ein.hycell": false,
    "ein.tags": "worksheet-0",
    "jupyter": {
     "outputs_hidden": false
    },
    "slideshow": {
     "slide_type": "-"
    }
   },
   "outputs": [],
   "source": [
    "import scipy.stats as sc\n",
    "import scipy.linalg as lin\n",
    "import numpy as np\n",
    "import scipy.optimize as opt\n",
    "import matplotlib.pyplot as plt\n",
    "import matplotlib\n",
    "import pandas as pd\n",
    "import random\n",
    "import csv"
   ]
  },
  {
   "cell_type": "code",
   "execution_count": 10,
   "metadata": {
    "autoscroll": false,
    "collapsed": false,
    "ein.hycell": false,
    "ein.tags": "worksheet-0",
    "jupyter": {
     "outputs_hidden": false
    },
    "slideshow": {
     "slide_type": "-"
    }
   },
   "outputs": [],
   "source": [
    "def CIRobjective(params,data):\n",
    "    \"\"\"Log-likelihood objective funciton for the CIR Process using the \"\"\" \n",
    "    dataF = data[1:]\n",
    "    dataL = data[:len(data)-1]\n",
    "    nobs = len(data)\n",
    "    delta = 1/250\n",
    "    alpha = params[0]\n",
    "    mu = params[1]\n",
    "    sigma = params[2]\n",
    "    \n",
    "    c = 2*alpha/(sigma**2*(1-np.exp(-alpha * delta)))\n",
    "    q = 2 * alpha * mu/sigma**2-1\n",
    "    u = c * np.exp(-alpha*delta)*dataL\n",
    "    v = c*dataF\n",
    "    nc = 2*u\n",
    "    df = 2*q + 2\n",
    "    s = 2*v\n",
    "    \n",
    "    gpdf = sc.ncx2.pdf(s,df,nc)\n",
    "    ppdf = 2 *c*gpdf\n",
    "    lnL = np.sum(-np.log(ppdf))\n",
    "    return lnL\n",
    "    "
   ]
  },
  {
   "cell_type": "code",
   "execution_count": 11,
   "metadata": {
    "autoscroll": false,
    "collapsed": false,
    "ein.hycell": false,
    "ein.tags": "worksheet-0",
    "jupyter": {
     "outputs_hidden": false
    },
    "slideshow": {
     "slide_type": "-"
    }
   },
   "outputs": [],
   "source": [
    "def CIRestimation(model):\n",
    "    \n",
    "    delta = 1/250\n",
    "\n",
    "    nobs = len(model)\n",
    "    x = model[:nobs-1]\n",
    "    dx = -model.diff(periods = -1)\n",
    "    dx = dx.dropna()\n",
    "    dx = dx/x**0.5\n",
    "\n",
    "    df1 = delta/x**0.5\n",
    "    df2 = delta*x**0.5\n",
    "    regressors = pd.concat([df1,df2], axis = 1)\n",
    "    \n",
    "    drift = np.linalg.lstsq(regressors,dx,rcond=None)[0] #lstsq is the OLS solver\n",
    "    res = np.subtract(regressors@drift,dx)\n",
    "\n",
    "    alpha = -np.float(drift[1])\n",
    "    mu = -np.float(drift[0]/drift[1])\n",
    "    sigma = np.float(np.sqrt(np.var(res)/delta))\n",
    "\n",
    "    x0 = np.array([alpha,mu,sigma])\n",
    "    \"\"\"Here are the optimizer settings we can tweak. So far I am using a local minimizer\n",
    "    with the Nelder-Mead method. The Global Optimization kit within SciPy requires bounds\n",
    "    for which to find the global mimimum over, it achieves this by running a lot of local\n",
    "    minimizers over the total space. To tweak \"\"\"\n",
    "    \n",
    "    kkr = opt.minimize(CIRobjective,x0,args= model,method='Nelder-Mead')\n",
    "    \n",
    "    #kkr = opt.basinhopping(CIRobjective,x0, minimizer_kwargs= {'args':model})\n",
    "    \n",
    "    return kkr"
   ]
  },
  {
   "cell_type": "code",
   "execution_count": 13,
   "metadata": {
    "autoscroll": false,
    "collapsed": false,
    "ein.hycell": false,
    "ein.tags": "worksheet-0",
    "jupyter": {
     "outputs_hidden": false
    },
    "slideshow": {
     "slide_type": "-"
    }
   },
   "outputs": [],
   "source": [
    "def objective(z,*data):\n",
    "    b,v1,v2,v3 = data\n",
    "    \n",
    "    a = z[0]\n",
    "    ah = z[1]\n",
    "    s = z[2]\n",
    "    \n",
    "    f = ((2*a*b**2)/(2*ah-s**2)+ah/a -v1)**2 + ((2*ah*(2*ah+s**2))/((2*a)**2)+((2*a)**2*b**4)/((2*ah-s**2)*(2*ah-2*s**2))+2*b**2-v2)**2 + ((2*ah*(2*ah*+s**2)*(2*ah*2*+s**2))/(8*a**3)+(8*a**3*b**6)/((2*ah-s**2)*(2*ah-2*s**2)*(2*ah-3*s**2))+3*b**2*ah/a+(6*a*b**4)/(2*ah - s**2)-v3)**2    \n",
    "    return f\n",
    "\n",
    "def constraint(z):\n",
    "    c = 3*z[2]**2-2*z[1]\n",
    "    return 0 - c"
   ]
  },
  {
   "cell_type": "code",
   "execution_count": 14,
   "metadata": {
    "autoscroll": false,
    "collapsed": false,
    "ein.hycell": false,
    "ein.tags": "worksheet-0",
    "jupyter": {
     "outputs_hidden": false
    },
    "slideshow": {
     "slide_type": "-"
    }
   },
   "outputs": [],
   "source": [
    "## Estimation.py\n",
    "\n",
    "VVIX = pd.read_csv('vvstoxx.csv', header=-1, usecols=[1])/100\n",
    "a = 1\n",
    "b = np.power(VVIX.min(),2)/4\n",
    "Vplus = ((VVIX + np.sqrt(VVIX**2-4*a*b))/(2*a))**2\n",
    "Vminus = ((VVIX -np.sqrt(VVIX**2-4*a*b))/(2*a))**2\n",
    "\n",
    "model1 = Vplus\n",
    "model2 = Vminus\n",
    "res1 = CIRestimation(model1)\n",
    "res2 = CIRestimation(model2)\n",
    "\n",
    "V = Vplus + Vminus\n",
    "V1 = np.mean(V)\n",
    "V2 = np.mean(V**2)\n",
    "V3 = np.mean(V**3)\n",
    "\n",
    "aplus = res1.x[0]\n",
    "ahplus = res1.x[0]*res1.x[1]\n",
    "splus = res1.x[2]\n",
    "initialplus = np.array([aplus,ahplus,splus])\n",
    "\n",
    "aminus = res2.x[0]\n",
    "ahminus = res2.x[0]*res2.x[1]\n",
    "sminus = res2.x[2]\n",
    "initialminus = np.array([aminus,ahminus,sminus])\n",
    "\n",
    "lb = np.array([0,0,0])\n",
    "ub = np.array([20,1,1])\n",
    "\n",
    "#bounds = opt.Bounds(lb,ub)\n",
    "bb = [(0,np.inf),(0,np.inf),(0,np.inf)]\n",
    "\n",
    "cons = opt.NonlinearConstraint(constraint, 0, +np.inf)\n",
    "\n",
    "#cons =({'type': 'ineq', 'fun':constraint})\n",
    "args=(b,V1,V2,V3)\n",
    "#sol = opt.minimize(objective,initialminus, args = (b,V1,V2,V3), constraints = cons, options={'disp':True})\n",
    "#solly = opt.differential_evolution(objective, bounds, args=args, constraints = cons, disp = True)\n",
    "#sol = opt.shgo(objective, bb , args = args, constraints = cons)\n",
    "sol = opt.basinhopping(objective, initialminus, niter = 100, minimizer_kwargs={'bounds':bb,'constraints':cons, 'args':args},stepsize = 0.003, disp = False)"
   ]
  },
  {
   "cell_type": "code",
   "execution_count": 18,
   "metadata": {
    "autoscroll": false,
    "collapsed": false,
    "ein.hycell": false,
    "ein.tags": "worksheet-0",
    "jupyter": {
     "outputs_hidden": false
    },
    "slideshow": {
     "slide_type": "-"
    }
   },
   "outputs": [
    {
     "data": {
      "text/plain": [
       "array([17.78622826,  0.16589711,  0.19724314])"
      ]
     },
     "execution_count": 18,
     "metadata": {},
     "output_type": "execute_result"
    }
   ],
   "source": [
    "yy = [sol.x, sol.fun, sol.message, sol.lowest_optimization_result]\n",
    "yy[0]\n"
   ]
  },
  {
   "cell_type": "code",
   "execution_count": 5,
   "metadata": {
    "autoscroll": false,
    "collapsed": false,
    "ein.hycell": false,
    "ein.tags": "worksheet-0",
    "jupyter": {
     "outputs_hidden": false
    },
    "slideshow": {
     "slide_type": "-"
    }
   },
   "outputs": [],
   "source": [
    "def SimNChi2(nu, lam):\n",
    "    if nu > 1:\n",
    "        x = np.random.chisquare(nu-1) + (np.random.normal() + np.sqrt(lam))**2\n",
    "        return x\n",
    "    else:\n",
    "        x = np.random.chisquare(nu+2 * np.random.poisson(0.5 * lam))\n",
    "        return x\n",
    "    \n",
    "def SimCIR(alpha, beta, sigma, r0, n, h):\n",
    "    sigmaSquared = sigma**2\n",
    "    nu = 4* alpha * beta / sigmaSquared\n",
    "    phi = np.exp(-alpha*h)\n",
    "    omega = sigmaSquared * ((1 - phi) / (4*alpha))\n",
    "    \n",
    "    r = np.zeros((n+1,1))\n",
    "    r[0] = r0\n",
    "    \n",
    "    for t in range(1,n+1):\n",
    "        x = r[t-1] / omega\n",
    "        D = x *phi \n",
    "        r[t] = omega * SimNChi2(nu, D)\n",
    "    \n",
    "    return r\n",
    "        \n",
    "def EstimationSim():\n",
    "    n = np.array([100, 1000, 10000, 100000, 1000000])\n",
    "    b0 = np.array([0.1, 0.2])\n",
    "    a0 = 1\n",
    "    b = np.zeros((1,np.size(n)))\n",
    "    for i in range(np.size(b0)):\n",
    "        for j in range(np.size(n)):\n",
    "            v = SimCIR(2,0.6,0.1,0.6,n[j],1/250)\n",
    "            Vvix = a0*np.sqrt(v) + b0[i]/ np.sqrt(v)\n",
    "            minVvix2 = np.amin(np.power(Vvix,2))\n",
    "            b[:,j] = minVvix2/4\n",
    "    return b\n",
    "\n",
    "VVIX = pd.read_csv('vvstoxx.csv', header=-1, usecols=[1])/100\n",
    "a = 1\n",
    "b = np.power(VVIX.min(),2)/4\n",
    "Vplus = ((VVIX + np.sqrt(VVIX**2-4*a*b))/(2*a))**2\n",
    "Vminus = ((VVIX -np.sqrt(VVIX**2-4*a*b))/(2*a))**2"
   ]
  },
  {
   "cell_type": "code",
   "execution_count": 19,
   "metadata": {
    "autoscroll": false,
    "collapsed": false,
    "ein.hycell": false,
    "ein.tags": "worksheet-0",
    "jupyter": {
     "outputs_hidden": false
    },
    "slideshow": {
     "slide_type": "-"
    }
   },
   "outputs": [],
   "source": [
    "r = SimCIR(0.5,2.55,0.365,2.55,10000,1/360)\n",
    "#fig = plt.figure(figsize=(30,15))\n",
    "#plt.plot(r)\n"
   ]
  },
  {
   "cell_type": "code",
   "execution_count": 21,
   "metadata": {
    "autoscroll": false,
    "collapsed": false,
    "ein.hycell": false,
    "ein.tags": "worksheet-0",
    "jupyter": {
     "outputs_hidden": false
    },
    "slideshow": {
     "slide_type": "-"
    }
   },
   "outputs": [
    {
     "data": {
      "text/plain": [
       "0.16589711231074722"
      ]
     },
     "execution_count": 21,
     "metadata": {},
     "output_type": "execute_result"
    }
   ],
   "source": [
    "paramat=np.zeros((1000,5))\n",
    "yy[0][1]"
   ]
  },
  {
   "cell_type": "code",
   "execution_count": 35,
   "metadata": {
    "autoscroll": false,
    "collapsed": false,
    "ein.hycell": false,
    "ein.tags": "worksheet-0",
    "jupyter": {
     "outputs_hidden": false
    },
    "slideshow": {
     "slide_type": "-"
    }
   },
   "outputs": [],
   "source": [
    "## Estimation.py\n",
    "def table5(alpha, theta, xi, b, n):\n",
    "    a = 1\n",
    "    paramat = np.zeros((1000,5))\n",
    "    for i in range(1000):\n",
    "        v =SimCIR(alpta, theta, xi, alpha, n, 1/250)\n",
    "        Vvix = a*np.sqrt(v) + np.divide(b, np.sqrt(v))\n",
    "        minVvix2 = np.amin(Vvix) **2\n",
    "        hb = minVvix/4\n",
    "        Vplus = ((Vvix+ np.sqrt(Vvix**2-4*hb))/2)**2\n",
    "        Vminus = ((Vvix- np.sqrt(Vvix**2-4*hb))/2)**2\n",
    "        model1 = Vplus\n",
    "        model2 = Vminus\n",
    "        res1 = CIRestimation(model1)\n",
    "        res2 = CIRestimation(model2)\n",
    "         ## MM estimation\n",
    "        V = Vplus + Vminus\n",
    "        V1 = np.mean(V)\n",
    "        V2 = np.mean(V**2)\n",
    "        V3 = np.mean(V**3)\n",
    "        \n",
    "        aplus = res1.x[0]\n",
    "        ahplus = res1.x[0]*res1.x[1]\n",
    "        splus = res1.x[2]\n",
    "        initialplus = np.array([aplus,ahplus,splus])\n",
    "\n",
    "        aminus = res2.x[0]\n",
    "        ahminus = res2.x[0]*res2.x[1]\n",
    "        sminus = res2.x[2]\n",
    "        initialminus = np.array([aminus,ahminus,sminus])\n",
    "        \n",
    "        bb = [(0,np.inf),(0,np.inf),(0,np.inf)]\n",
    "\n",
    "        cons = opt.NonlinearConstraint(constraint, 0, +np.inf)\n",
    "\n",
    "        args=(hb, V1, V2,V3)\n",
    "        \n",
    "        sol_plus = opt.basinhopping(objective, initialplus, niter = 10000, minimizer_kwargs={'bounds':bb,'constraints':cons, 'args':args},stepsize = 0.003, disp = False)\n",
    "        sol_minus = opt.basinhopping(objective, initialminus, niter = 10000, minimizer_kwargs={'bounds':bb,'constraints':cons, 'args':args},stepsize = 0.003, disp = False)\n",
    "        res_1 = [sol_plus.x, sol_plus.fun, sol_plus.message, sol.lowest_optimization_result]\n",
    "        res_2 = [sol_minus.x, sol_minus.fun, sol_minus.message, sol_minus.lowest_optimization_result]\n",
    "        paramat[i,0] = hb\n",
    "        if res_2[1] < res_1[1]:\n",
    "            paramat[i,1] = res_2[0][0]\n",
    "            paramat[i,2] = res_2[0][1] / res_2[0][2]\n",
    "            paramat[i,3] = res_2[0][2]\n",
    "            paramat[i,4] = 1\n",
    "        elif res_2[1] == res_1[1]:\n",
    "            r = random.random()\n",
    "            if r <= 0.5:\n",
    "              paramat[i,1] = res_2[0][0]\n",
    "              paramat[i,2] = res_2[0][1] / res_2[0][2]\n",
    "              paramat[i,3] = res_2[0][2]\n",
    "              paramat[i,4] = 1\n",
    "            else:\n",
    "              paramat[i,1] = res_1[0][0]\n",
    "              paramat[i,2] = res_1[0][1] / res_1[0][2]\n",
    "              paramat[i,3] = res_1[0][2]\n",
    "              paramat[i,4] = 0\n",
    "        else:\n",
    "            paramat[i,1] = res_1[0][0]\n",
    "            paramat[i,2] = res_1[0][1] / res_1[0][2]\n",
    "            paramat[i,3] = res_1[0][2]\n",
    "            paramat[i,4] = 0\n",
    "\n",
    "        ahat = np.mean(paramat)\n",
    "        asd= np.std(paramat)\n",
    "\n",
    "        return ahat, asd\n",
    " "
   ]
  },
  {
   "cell_type": "code",
   "execution_count": 26,
   "metadata": {
    "autoscroll": false,
    "collapsed": false,
    "ein.hycell": false,
    "ein.tags": "worksheet-0",
    "jupyter": {
     "outputs_hidden": false
    },
    "slideshow": {
     "slide_type": "-"
    }
   },
   "outputs": [
    {
     "data": {
      "text/plain": [
       "0.5487369011995564"
      ]
     },
     "execution_count": 26,
     "metadata": {},
     "output_type": "execute_result"
    }
   ],
   "source": [
    "random.random()"
   ]
  },
  {
   "cell_type": "code",
   "execution_count": null,
   "metadata": {
    "autoscroll": false,
    "collapsed": false,
    "ein.hycell": false,
    "ein.tags": "worksheet-0",
    "jupyter": {
     "outputs_hidden": false
    },
    "slideshow": {
     "slide_type": "-"
    }
   },
   "outputs": [],
   "source": []
  }
 ],
 "metadata": {
  "kernelspec": {
   "display_name": "Python 3",
   "language": "python",
   "name": "python3"
  },
  "language_info": {
   "codemirror_mode": {
    "name": "ipython",
    "version": 3
   },
   "file_extension": ".py",
   "mimetype": "text/x-python",
   "name": "python",
   "nbconvert_exporter": "python",
   "pygments_lexer": "ipython3",
   "version": "3.7.3"
  },
  "name": "Estimation.ipynb"
 },
 "nbformat": 4,
 "nbformat_minor": 4
}
